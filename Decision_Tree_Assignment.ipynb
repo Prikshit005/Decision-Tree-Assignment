{
  "nbformat": 4,
  "nbformat_minor": 0,
  "metadata": {
    "colab": {
      "provenance": []
    },
    "kernelspec": {
      "name": "python3",
      "display_name": "Python 3"
    },
    "language_info": {
      "name": "python"
    }
  },
  "cells": [
    {
      "cell_type": "markdown",
      "source": [
        "#**Decision Tree**"
      ],
      "metadata": {
        "id": "vevYHcCKztOs"
      }
    },
    {
      "cell_type": "markdown",
      "source": [
        "1. **What is a Decision Tree, and how does it work?**\n",
        "- A Decision Tree is a simple and easy-to-understand tool used in machine learning to make predictions. It works like a flowchart, where each question or decision splits the data based on a certain feature (like age, income, etc.). Starting from the top (called the root), the tree asks a series of questions, and each answer leads to another question or a final decision (the leaf). This process continues until the tree reaches a conclusion or prediction. Decision Trees are useful because they can handle different types of data and show clear decision rules, but they can sometimes make overly complex trees that don’t work well on new data unless properly controlled."
      ],
      "metadata": {
        "id": "jjdq-QGX019J"
      }
    },
    {
      "cell_type": "markdown",
      "source": [
        "2. **What are impurity measures in Decision Trees?**\n",
        "- Impurity measures in Decision Trees help decide how to split the data at each step. They show how mixed or “impure” a group of data is. If a group has only one type of item (like all \"yes\" or all \"no\" answers), it’s pure. If it has a mix, it's impure. Common impurity measures include Gini impurity and entropy. The goal of the Decision Tree is to make splits that reduce impurity, creating groups that are as pure as possible. This helps the tree make better and more accurate predictions."
      ],
      "metadata": {
        "id": "BMqhMJu71aDL"
      }
    },
    {
      "cell_type": "markdown",
      "source": [
        "3. **What is the mathematical formula for Gini Impurity?**\n",
        "-  The Gini Impurity is a measure of how often a randomly chosen element from a set would be incorrectly labeled if it was randomly labeled according to the distribution of labels in the set. The mathematical formula for Gini Impurity is:\n",
        "\n",
        " Gini\n",
        "=\n",
        "1\n",
        "−\n",
        "∑\n",
        "𝑖\n",
        "=\n",
        "1\n",
        "𝑛\n",
        "𝑝\n",
        "𝑖\n",
        "2\n",
        "Gini=1−\n",
        "i=1\n",
        "∑\n",
        "n\n",
        "​\n",
        " p\n",
        "i\n",
        "2\n",
        "​\n",
        "\n",
        " In simple terms,\n",
        "𝑝\n",
        "𝑖\n",
        "p\n",
        "i\n",
        "​\n",
        "  is the probability (or proportion) of each class\n",
        "𝑖\n",
        "i in the node, and we square each of these probabilities and subtract their sum from 1. If all data in a node belongs to one class (pure), the Gini impurity is 0. The more mixed the classes are, the higher the Gini value, with a maximum close to 0.5 for two equally mixed classes.\n"
      ],
      "metadata": {
        "id": "-gARJRz711vH"
      }
    },
    {
      "cell_type": "markdown",
      "source": [
        "**4. What is the mathematical formula for Entropy?**\n",
        "- The Entropy in Decision Trees is a measure of the randomness or impurity in a group of data. It tells us how mixed the classes are in a node. The mathematical formula for entropy is:\n",
        "\n",
        " Entropy\n",
        "=\n",
        "−\n",
        "∑\n",
        "𝑖\n",
        "=\n",
        "1\n",
        "𝑛\n",
        "𝑝\n",
        "𝑖\n",
        "log\n",
        "⁡\n",
        "2\n",
        "(\n",
        "𝑝\n",
        "𝑖\n",
        ")\n",
        "Entropy=−\n",
        "i=1\n",
        "∑\n",
        "n\n",
        "​\n",
        " p\n",
        "i\n",
        "​\n",
        " log\n",
        "2\n",
        "​\n",
        " (p\n",
        "i\n",
        "​\n",
        " )\n",
        "Here,\n",
        "𝑝\n",
        "𝑖\n",
        "p\n",
        "i\n",
        "​\n",
        "  is the probability (or proportion) of each class\n",
        "𝑖\n",
        "i in the node. We will multiply each probability by the log base 2 of itself, add them up, and take the negative of that sum. If a node is pure (all data belongs to one class), the entropy is 0. The more mixed the classes, the higher the entropy, with the maximum being 1 when the classes are evenly split (like 50/50 in binary classification)."
      ],
      "metadata": {
        "id": "vkTK0E2k2Vm7"
      }
    },
    {
      "cell_type": "markdown",
      "source": [
        "**5. What is Information Gain, and how is it used in Decision Trees?**\n",
        "- **Information Gain** is a measure used in Decision Trees to decide which feature to split the data on at each step. It shows how much **uncertainty (entropy)** is reduced after a split. The idea is to choose the feature that gives the **most information**, meaning it creates the **purest groups**. The formula is:\n",
        "\n",
        "$$\n",
        "\\text{Information Gain} = \\text{Entropy (before split)} - \\text{Weighted Entropy (after split)}\n",
        "$$\n",
        "\n",
        "  In simple terms, the tree looks at the current group’s entropy, then checks how much that entropy goes down if it splits the group by a certain feature. The split that reduces entropy the most (i.e., gives the highest information gain) is chosen. This helps the tree grow in a way that makes the best possible decisions at each step.\n"
      ],
      "metadata": {
        "id": "FWxE_52M24_2"
      }
    },
    {
      "cell_type": "markdown",
      "source": [
        "**6. What is the difference between Gini Impurity and Entropy?**\n",
        "- **Gini Impurity** and **Entropy** are both measures of how mixed or impure a group of data is in a Decision Tree, and they help decide the best way to split the data. The main difference is in how they calculate impurity. **Gini Impurity** uses the formula $1 - \\sum p_i^2$, which is faster to compute and usually gives similar results. **Entropy**, on the other hand, uses the formula $-\\sum p_i \\log_2(p_i)$ and comes from information theory. While both aim to create the purest possible groups after a split, Gini tends to be a bit simpler and faster, while Entropy can be more accurate in some cases. In practice, both often lead to similar decision trees.\n"
      ],
      "metadata": {
        "id": "AEOkQPob3PZa"
      }
    },
    {
      "cell_type": "markdown",
      "source": [
        "**7. What is the mathematical explanation behind Decision Trees?**\n",
        "- The mathematical idea behind **Decision Trees** is to split data into smaller and smaller groups to make accurate predictions. At each step (or node), the algorithm looks at all the features and calculates a **splitting score** using impurity measures like **Gini Impurity** or **Entropy**. It then chooses the feature and split that gives the **lowest impurity** or **highest information gain**. This process is repeated **recursively** on each subgroup until a stopping point is reached, such as when all items in a group belong to the same class. Mathematically, the goal is to **minimize impurity** or **maximize information gain** at each split to build the best possible tree for prediction.\n"
      ],
      "metadata": {
        "id": "IuS-967V3ipo"
      }
    },
    {
      "cell_type": "markdown",
      "source": [
        "**8. What is Pre-Pruning in Decision Trees?**\n",
        "- **Pre-pruning** in Decision Trees is a technique used to stop the tree from growing too big and becoming too complex, which can lead to **overfitting** (performing well on training data but poorly on new data). Instead of allowing the tree to grow fully and then trimming it, pre-pruning stops the tree **early**, during its construction. This is done by setting conditions like a **maximum depth**, a **minimum number of samples required to split**, or a **minimum gain in impurity** needed to continue splitting. If these conditions aren’t met, the tree stops splitting at that point and creates a leaf node. This helps keep the model simpler and often improves how well it works on unseen data.\n"
      ],
      "metadata": {
        "id": "GTjRAE5x4fjM"
      }
    },
    {
      "cell_type": "markdown",
      "source": [
        "**9. What is Post-Pruning in Decision Trees?**\n",
        "- **Post-pruning** in Decision Trees is a technique where the tree is first allowed to grow fully, creating a large and complex structure that might overfit the training data. After the tree is built, post-pruning removes or trims some of the branches or nodes that don’t add much value in making accurate predictions. This is done by evaluating the tree’s performance on a separate validation set and cutting back parts that cause overfitting. Post-pruning helps simplify the tree, making it more general and better at predicting new, unseen data.\n"
      ],
      "metadata": {
        "id": "o_IVHmBn40_-"
      }
    },
    {
      "cell_type": "markdown",
      "source": [
        "**10. What is the difference between Pre-Pruning and Post-Pruning?**\n",
        "- The main difference between **pre-pruning** and **post-pruning** in Decision Trees is **when** they stop the tree from becoming too complex. **Pre-pruning** stops the tree from growing too big by setting rules during the building process, like limiting the depth or minimum samples needed to split, so the tree stays simple from the start. **Post-pruning**, on the other hand, lets the tree grow fully first and then cuts back or trims unnecessary branches afterward to reduce complexity. Both methods help prevent overfitting, but pre-pruning is like stopping early, while post-pruning is like trimming after the tree is complete.\n"
      ],
      "metadata": {
        "id": "yhNYR2uf4-hG"
      }
    },
    {
      "cell_type": "markdown",
      "source": [
        "**11. What is a Decision Tree Regressor?**\n",
        "- A **Decision Tree Regressor** is a type of decision tree used for predicting continuous values instead of categories. Instead of classifying data into groups, it splits the data based on features to predict a number, like house prices or temperatures. At each step, the tree chooses the best feature and split that reduce the difference (called variance) in the target values within each group. The process continues until it reaches a stopping point, and the final prediction for a new data point is the average value of the target in the leaf it ends up in. It’s an easy-to-understand way to make predictions for numerical problems.\n"
      ],
      "metadata": {
        "id": "TiniH4lW5Me1"
      }
    },
    {
      "cell_type": "markdown",
      "source": [
        "**12. What are the advantages and disadvantages of Decision Trees?**\n",
        "- **Decision Trees** have some great advantages: they’re easy to understand and interpret because their decisions look like simple rules, they can handle both numbers and categories, and they don’t need us to scale or normalize our data. However, they also have some downsides. They can easily **overfit** the training data, especially if the tree gets very deep and complicated, which means they might not work well on new data. They can also be unstable because small changes in data might create very different trees. Despite these drawbacks, Decision Trees are popular because they’re fast and simple to use.\n"
      ],
      "metadata": {
        "id": "AcPAVDKU5bkI"
      }
    },
    {
      "cell_type": "markdown",
      "source": [
        "**13. How does a Decision Tree handle missing values?**\n",
        "- A **Decision Tree** can handle missing values by using different strategies during the splitting process. One common way is to ignore missing values when deciding the best split or to use surrogate splits, which means the tree looks for another feature that closely mimics the original split to decide where the missing data should go. Some trees also assign missing values to the most common branch or distribute them based on the proportion of known values. These methods help the tree make predictions even when some data is incomplete, without needing to fill in the missing values beforehand.\n"
      ],
      "metadata": {
        "id": "YHZiDt535meQ"
      }
    },
    {
      "cell_type": "markdown",
      "source": [
        "**14. How does a Decision Tree handle categorical features?**\n",
        "- A **Decision Tree** handles **categorical features** by splitting the data based on the different categories or groups within that feature. For example, if a feature is \"color\" with values like red, blue, and green, the tree can create branches for each category or group some categories together to make a split. Depending on the algorithm, it might try all possible ways to group categories and choose the split that best separates the data based on impurity measures like Gini or entropy. This makes Decision Trees flexible and able to work directly with categorical data without needing to convert it into numbers first.\n"
      ],
      "metadata": {
        "id": "Vr0wX5Da5xLS"
      }
    },
    {
      "cell_type": "markdown",
      "source": [
        "**15. What are some real-world applications of Decision Trees?**\n",
        "- Decision Trees are used in many real-world areas because they’re easy to understand and effective. For example, in **healthcare**, they help doctors diagnose diseases by analyzing symptoms and test results. In **finance**, they’re used to decide whether to approve loans by evaluating credit history and income. In **marketing**, companies use them to predict which customers are likely to buy a product based on their behavior. They’re also popular in **fraud detection**, helping spot unusual transactions, and in **customer support** for routing queries to the right department. Overall, Decision Trees help make clear decisions in areas where understanding the reasoning is important.\n"
      ],
      "metadata": {
        "id": "BnSl1fEa55Bt"
      }
    },
    {
      "cell_type": "markdown",
      "source": [
        "# **Practical**"
      ],
      "metadata": {
        "id": "hQv9K2wS6DJu"
      }
    },
    {
      "cell_type": "markdown",
      "source": [
        "**1. Write a Python program to train a Decision Tree Classifier on the Iris dataset and print the model accuracy.**"
      ],
      "metadata": {
        "id": "RipJpaN66H3u"
      }
    },
    {
      "cell_type": "code",
      "source": [
        "from sklearn.datasets import load_iris\n",
        "from sklearn.model_selection import train_test_split\n",
        "from sklearn.tree import DecisionTreeClassifier\n",
        "from sklearn.metrics import accuracy_score\n",
        "\n",
        "iris = load_iris()\n",
        "X = iris.data\n",
        "y = iris.target\n",
        "\n",
        "X_train, X_test, y_train, y_test = train_test_split(X, y, test_size=0.2, random_state=42)\n",
        "\n",
        "clf = DecisionTreeClassifier(random_state=42)\n",
        "\n",
        "clf.fit(X_train, y_train)\n",
        "\n",
        "y_pred = clf.predict(X_test)\n",
        "\n",
        "accuracy = accuracy_score(y_test, y_pred)\n",
        "print(f\"Model accuracy: {accuracy:.2f}\")\n"
      ],
      "metadata": {
        "colab": {
          "base_uri": "https://localhost:8080/"
        },
        "id": "G6Y5OQ3560br",
        "outputId": "ec9bf207-9e5c-4aa7-ca10-d8c71b6adae6"
      },
      "execution_count": 1,
      "outputs": [
        {
          "output_type": "stream",
          "name": "stdout",
          "text": [
            "Model accuracy: 1.00\n"
          ]
        }
      ]
    },
    {
      "cell_type": "markdown",
      "source": [
        "**2. Write a Python program to train a Decision Tree Classifier using Gini Impurity as the criterion and print the feature importances.**"
      ],
      "metadata": {
        "id": "SLiYk4q16_q9"
      }
    },
    {
      "cell_type": "code",
      "source": [
        "from sklearn.datasets import load_iris\n",
        "from sklearn.tree import DecisionTreeClassifier\n",
        "\n",
        "iris = load_iris()\n",
        "X = iris.data\n",
        "y = iris.target\n",
        "\n",
        "clf = DecisionTreeClassifier(criterion='gini', random_state=42)\n",
        "\n",
        "clf.fit(X, y)\n",
        "\n",
        "print(\"Feature importances:\")\n",
        "for name, importance in zip(iris.feature_names, clf.feature_importances_):\n",
        "    print(f\"{name}: {importance:.4f}\")\n"
      ],
      "metadata": {
        "colab": {
          "base_uri": "https://localhost:8080/"
        },
        "id": "elQcmh8l7IPU",
        "outputId": "613c59a6-2e6e-43df-9bae-4b664c363d33"
      },
      "execution_count": 2,
      "outputs": [
        {
          "output_type": "stream",
          "name": "stdout",
          "text": [
            "Feature importances:\n",
            "sepal length (cm): 0.0133\n",
            "sepal width (cm): 0.0000\n",
            "petal length (cm): 0.5641\n",
            "petal width (cm): 0.4226\n"
          ]
        }
      ]
    },
    {
      "cell_type": "markdown",
      "source": [
        "**3.Write a Python program to train a Decision Tree Classifier using Entropy as the splitting criterion and print the model accuracy.**"
      ],
      "metadata": {
        "id": "R6_z7vNl7b9k"
      }
    },
    {
      "cell_type": "code",
      "source": [
        "from sklearn.datasets import load_iris\n",
        "from sklearn.model_selection import train_test_split\n",
        "from sklearn.tree import DecisionTreeClassifier\n",
        "from sklearn.metrics import accuracy_score\n",
        "\n",
        "iris = load_iris()\n",
        "X = iris.data\n",
        "y = iris.target\n",
        "\n",
        "X_train, X_test, y_train, y_test = train_test_split(X, y, test_size=0.2, random_state=42)\n",
        "\n",
        "clf = DecisionTreeClassifier(criterion='entropy', random_state=42)\n",
        "\n",
        "clf.fit(X_train, y_train)\n",
        "\n",
        "y_pred = clf.predict(X_test)\n",
        "\n",
        "accuracy = accuracy_score(y_test, y_pred)\n",
        "print(f\"Model accuracy: {accuracy:.2f}\")\n"
      ],
      "metadata": {
        "colab": {
          "base_uri": "https://localhost:8080/"
        },
        "id": "-8ySnHM47iNX",
        "outputId": "a65a3df8-a4de-49b4-ceb4-0182c519382d"
      },
      "execution_count": 3,
      "outputs": [
        {
          "output_type": "stream",
          "name": "stdout",
          "text": [
            "Model accuracy: 1.00\n"
          ]
        }
      ]
    },
    {
      "cell_type": "markdown",
      "source": [
        "**4. Write a Python program to train a Decision Tree Regressor on a housing dataset and evaluate using Mean Squared Error (MSE).**"
      ],
      "metadata": {
        "id": "9zpNFXj-7yEX"
      }
    },
    {
      "cell_type": "code",
      "source": [
        "from sklearn.datasets import fetch_california_housing\n",
        "from sklearn.model_selection import train_test_split\n",
        "from sklearn.tree import DecisionTreeRegressor\n",
        "from sklearn.metrics import mean_squared_error\n",
        "\n",
        "housing = fetch_california_housing()\n",
        "X = housing.data\n",
        "y = housing.target\n",
        "\n",
        "X_train, X_test, y_train, y_test = train_test_split(X, y, test_size=0.2, random_state=42)\n",
        "\n",
        "regressor = DecisionTreeRegressor(random_state=42)\n",
        "\n",
        "regressor.fit(X_train, y_train)\n",
        "\n",
        "y_pred = regressor.predict(X_test)\n",
        "\n",
        "mse = mean_squared_error(y_test, y_pred)\n",
        "print(f\"Mean Squared Error (MSE): {mse:.4f}\")\n"
      ],
      "metadata": {
        "colab": {
          "base_uri": "https://localhost:8080/"
        },
        "id": "zXiT-fNV75KX",
        "outputId": "36462ba5-68de-4621-b4c6-ef345118f161"
      },
      "execution_count": 4,
      "outputs": [
        {
          "output_type": "stream",
          "name": "stdout",
          "text": [
            "Mean Squared Error (MSE): 0.4952\n"
          ]
        }
      ]
    },
    {
      "cell_type": "markdown",
      "source": [
        "**5. Write a Python program to train a Decision Tree Classifier and visualize the tree using graphviz.**"
      ],
      "metadata": {
        "id": "XLbU8b288EH6"
      }
    },
    {
      "cell_type": "code",
      "source": [
        "from sklearn.datasets import load_iris\n",
        "from sklearn.tree import DecisionTreeClassifier, export_graphviz\n",
        "import graphviz\n",
        "\n",
        "iris = load_iris()\n",
        "X = iris.data\n",
        "y = iris.target\n",
        "\n",
        "clf = DecisionTreeClassifier(random_state=42)\n",
        "clf.fit(X, y)\n",
        "\n",
        "dot_data = export_graphviz(\n",
        "    clf,\n",
        "    out_file=None,\n",
        "    feature_names=iris.feature_names,\n",
        "    class_names=iris.target_names,\n",
        "    filled=True,\n",
        "    rounded=True,\n",
        "    special_characters=True\n",
        ")\n",
        "\n",
        "graph = graphviz.Source(dot_data)\n",
        "graph.render(\"decision_tree_iris\")\n",
        "graph.view()\n"
      ],
      "metadata": {
        "colab": {
          "base_uri": "https://localhost:8080/",
          "height": 36
        },
        "id": "Ls-NvjBX8SyF",
        "outputId": "b715958a-ef09-45be-835f-d13b61c76366"
      },
      "execution_count": 5,
      "outputs": [
        {
          "output_type": "execute_result",
          "data": {
            "text/plain": [
              "'decision_tree_iris.pdf'"
            ],
            "application/vnd.google.colaboratory.intrinsic+json": {
              "type": "string"
            }
          },
          "metadata": {},
          "execution_count": 5
        }
      ]
    },
    {
      "cell_type": "markdown",
      "source": [
        "**6.Write a Python program to train a Decision Tree Classifier with a maximum depth of 3 and compare its accuracy with a fully grown tree.**"
      ],
      "metadata": {
        "id": "jv9w-3lm8bwo"
      }
    },
    {
      "cell_type": "code",
      "source": [
        "from sklearn.datasets import load_iris\n",
        "from sklearn.model_selection import train_test_split\n",
        "from sklearn.tree import DecisionTreeClassifier\n",
        "from sklearn.metrics import accuracy_score\n",
        "\n",
        "iris = load_iris()\n",
        "X = iris.data\n",
        "y = iris.target\n",
        "\n",
        "X_train, X_test, y_train, y_test = train_test_split(X, y, test_size=0.2, random_state=42)\n",
        "\n",
        "clf_limited = DecisionTreeClassifier(max_depth=3, random_state=42)\n",
        "clf_limited.fit(X_train, y_train)\n",
        "y_pred_limited = clf_limited.predict(X_test)\n",
        "accuracy_limited = accuracy_score(y_test, y_pred_limited)\n",
        "\n",
        "clf_full = DecisionTreeClassifier(random_state=42)\n",
        "clf_full.fit(X_train, y_train)\n",
        "y_pred_full = clf_full.predict(X_test)\n",
        "accuracy_full = accuracy_score(y_test, y_pred_full)\n",
        "\n",
        "print(f\"Accuracy with max depth 3: {accuracy_limited:.2f}\")\n",
        "print(f\"Accuracy with fully grown tree: {accuracy_full:.2f}\")\n"
      ],
      "metadata": {
        "colab": {
          "base_uri": "https://localhost:8080/"
        },
        "id": "oFr-2Fxx8ie5",
        "outputId": "057446fb-6e9a-4f17-a6de-2f115bd68368"
      },
      "execution_count": 6,
      "outputs": [
        {
          "output_type": "stream",
          "name": "stdout",
          "text": [
            "Accuracy with max depth 3: 1.00\n",
            "Accuracy with fully grown tree: 1.00\n"
          ]
        }
      ]
    },
    {
      "cell_type": "markdown",
      "source": [
        "**7. Write a Python program to train a Decision Tree Classifier using min_samples_split=5 and compare its accuracy with a default tree.**"
      ],
      "metadata": {
        "id": "p7E9CiUp8qo3"
      }
    },
    {
      "cell_type": "code",
      "source": [
        "from sklearn.datasets import load_iris\n",
        "from sklearn.model_selection import train_test_split\n",
        "from sklearn.tree import DecisionTreeClassifier\n",
        "from sklearn.metrics import accuracy_score\n",
        "\n",
        "iris = load_iris()\n",
        "X = iris.data\n",
        "y = iris.target\n",
        "\n",
        "X_train, X_test, y_train, y_test = train_test_split(X, y, test_size=0.2, random_state=42)\n",
        "\n",
        "clf_min_split = DecisionTreeClassifier(min_samples_split=5, random_state=42)\n",
        "clf_min_split.fit(X_train, y_train)\n",
        "y_pred_min_split = clf_min_split.predict(X_test)\n",
        "accuracy_min_split = accuracy_score(y_test, y_pred_min_split)\n",
        "\n",
        "clf_default = DecisionTreeClassifier(random_state=42)\n",
        "clf_default.fit(X_train, y_train)\n",
        "y_pred_default = clf_default.predict(X_test)\n",
        "accuracy_default = accuracy_score(y_test, y_pred_default)\n",
        "\n",
        "print(f\"Accuracy with min_samples_split=5: {accuracy_min_split:.2f}\")\n",
        "print(f\"Accuracy with default min_samples_split=2: {accuracy_default:.2f}\")\n"
      ],
      "metadata": {
        "colab": {
          "base_uri": "https://localhost:8080/"
        },
        "id": "zoLwPaB98xJK",
        "outputId": "562f4d09-a4a2-4204-c547-f353602241f4"
      },
      "execution_count": 7,
      "outputs": [
        {
          "output_type": "stream",
          "name": "stdout",
          "text": [
            "Accuracy with min_samples_split=5: 1.00\n",
            "Accuracy with default min_samples_split=2: 1.00\n"
          ]
        }
      ]
    },
    {
      "cell_type": "markdown",
      "source": [
        "**8. Write a Python program to apply feature scaling before training a Decision Tree Classifier and compare its accuracy with unscaled data.**"
      ],
      "metadata": {
        "id": "JNnp_D5f86Sz"
      }
    },
    {
      "cell_type": "code",
      "source": [
        "from sklearn.datasets import load_iris\n",
        "from sklearn.model_selection import train_test_split\n",
        "from sklearn.tree import DecisionTreeClassifier\n",
        "from sklearn.preprocessing import StandardScaler\n",
        "from sklearn.metrics import accuracy_score\n",
        "\n",
        "iris = load_iris()\n",
        "X = iris.data\n",
        "y = iris.target\n",
        "\n",
        "X_train, X_test, y_train, y_test = train_test_split(X, y, test_size=0.2, random_state=42)\n",
        "\n",
        "clf_unscaled = DecisionTreeClassifier(random_state=42)\n",
        "clf_unscaled.fit(X_train, y_train)\n",
        "y_pred_unscaled = clf_unscaled.predict(X_test)\n",
        "accuracy_unscaled = accuracy_score(y_test, y_pred_unscaled)\n",
        "\n",
        "scaler = StandardScaler()\n",
        "X_train_scaled = scaler.fit_transform(X_train)\n",
        "X_test_scaled = scaler.transform(X_test)\n",
        "\n",
        "clf_scaled = DecisionTreeClassifier(random_state=42)\n",
        "clf_scaled.fit(X_train_scaled, y_train)\n",
        "y_pred_scaled = clf_scaled.predict(X_test_scaled)\n",
        "accuracy_scaled = accuracy_score(y_test, y_pred_scaled)\n",
        "\n",
        "print(f\"Accuracy without scaling: {accuracy_unscaled:.2f}\")\n",
        "print(f\"Accuracy with scaling: {accuracy_scaled:.2f}\")\n"
      ],
      "metadata": {
        "colab": {
          "base_uri": "https://localhost:8080/"
        },
        "id": "i9_KVEKr9BUx",
        "outputId": "953ea108-0e83-4ac4-b3ec-facde3b5a4e4"
      },
      "execution_count": 8,
      "outputs": [
        {
          "output_type": "stream",
          "name": "stdout",
          "text": [
            "Accuracy without scaling: 1.00\n",
            "Accuracy with scaling: 1.00\n"
          ]
        }
      ]
    },
    {
      "cell_type": "markdown",
      "source": [
        "**9.Write a Python program to train a Decision Tree Classifier using One-vs-Rest (OvR) strategy for multiclass classification.**"
      ],
      "metadata": {
        "id": "reVeaG_Y9LeI"
      }
    },
    {
      "cell_type": "code",
      "source": [
        "from sklearn.datasets import load_iris\n",
        "from sklearn.model_selection import train_test_split\n",
        "from sklearn.tree import DecisionTreeClassifier\n",
        "from sklearn.multiclass import OneVsRestClassifier\n",
        "from sklearn.metrics import accuracy_score\n",
        "\n",
        "iris = load_iris()\n",
        "X = iris.data\n",
        "y = iris.target\n",
        "\n",
        "X_train, X_test, y_train, y_test = train_test_split(X, y, test_size=0.2, random_state=42)\n",
        "\n",
        "ovr_clf = OneVsRestClassifier(DecisionTreeClassifier(random_state=42))\n",
        "\n",
        "ovr_clf.fit(X_train, y_train)\n",
        "\n",
        "y_pred_ovr = ovr_clf.predict(X_test)\n",
        "\n",
        "accuracy_ovr = accuracy_score(y_test, y_pred_ovr)\n",
        "print(f\"Accuracy with One-vs-Rest: {accuracy_ovr:.2f}\")"
      ],
      "metadata": {
        "colab": {
          "base_uri": "https://localhost:8080/"
        },
        "id": "1SNatoJ09Qvt",
        "outputId": "b4be12d2-3724-4772-f17a-408e27970c60"
      },
      "execution_count": 10,
      "outputs": [
        {
          "output_type": "stream",
          "name": "stdout",
          "text": [
            "Accuracy with One-vs-Rest: 1.00\n"
          ]
        }
      ]
    },
    {
      "cell_type": "markdown",
      "source": [
        "**10. Write a Python program to train a Decision Tree Classifier and display the feature importance scores.**"
      ],
      "metadata": {
        "id": "8nG56kUk9o-m"
      }
    },
    {
      "cell_type": "code",
      "source": [
        "from sklearn.datasets import load_iris\n",
        "from sklearn.tree import DecisionTreeClassifier\n",
        "\n",
        "iris = load_iris()\n",
        "X = iris.data\n",
        "y = iris.target\n",
        "\n",
        "clf = DecisionTreeClassifier(random_state=42)\n",
        "clf.fit(X, y)\n",
        "\n",
        "print(\"Feature importance scores:\")\n",
        "for feature, importance in zip(iris.feature_names, clf.feature_importances_):\n",
        "    print(f\"{feature}: {importance:.4f}\")\n"
      ],
      "metadata": {
        "colab": {
          "base_uri": "https://localhost:8080/"
        },
        "id": "mL4l6ZoJ9t6q",
        "outputId": "bce18c05-5421-4b6c-d3e2-b7553f5feade"
      },
      "execution_count": 11,
      "outputs": [
        {
          "output_type": "stream",
          "name": "stdout",
          "text": [
            "Feature importance scores:\n",
            "sepal length (cm): 0.0133\n",
            "sepal width (cm): 0.0000\n",
            "petal length (cm): 0.5641\n",
            "petal width (cm): 0.4226\n"
          ]
        }
      ]
    },
    {
      "cell_type": "markdown",
      "source": [
        "**11.Write a Python program to train a Decision Tree Regressor with max_depth=5 and compare its performance with an unrestricted tree.**"
      ],
      "metadata": {
        "id": "dyK6qesc90YV"
      }
    },
    {
      "cell_type": "code",
      "source": [
        "from sklearn.datasets import fetch_california_housing\n",
        "from sklearn.model_selection import train_test_split\n",
        "from sklearn.tree import DecisionTreeRegressor\n",
        "from sklearn.metrics import mean_squared_error\n",
        "\n",
        "housing = fetch_california_housing()\n",
        "X = housing.data\n",
        "y = housing.target\n",
        "\n",
        "X_train, X_test, y_train, y_test = train_test_split(X, y, test_size=0.2, random_state=42)\n",
        "\n",
        "regressor_limited = DecisionTreeRegressor(max_depth=5, random_state=42)\n",
        "regressor_limited.fit(X_train, y_train)\n",
        "y_pred_limited = regressor_limited.predict(X_test)\n",
        "mse_limited = mean_squared_error(y_test, y_pred_limited)\n",
        "\n",
        "regressor_full = DecisionTreeRegressor(random_state=42)\n",
        "regressor_full.fit(X_train, y_train)\n",
        "y_pred_full = regressor_full.predict(X_test)\n",
        "mse_full = mean_squared_error(y_test, y_pred_full)\n",
        "\n",
        "print(f\"MSE with max_depth=5: {mse_limited:.4f}\")\n",
        "print(f\"MSE with unrestricted tree: {mse_full:.4f}\")\n"
      ],
      "metadata": {
        "colab": {
          "base_uri": "https://localhost:8080/"
        },
        "id": "JcYNXvFY98Sh",
        "outputId": "b889124a-fe44-445a-8c89-c8dd48b4c073"
      },
      "execution_count": 12,
      "outputs": [
        {
          "output_type": "stream",
          "name": "stdout",
          "text": [
            "MSE with max_depth=5: 0.5245\n",
            "MSE with unrestricted tree: 0.4952\n"
          ]
        }
      ]
    },
    {
      "cell_type": "markdown",
      "source": [
        "**12.Write a Python program to train a Decision Tree Classifier, apply Cost Complexity Pruning (CCP), and visualize its effect on accuracy.**"
      ],
      "metadata": {
        "id": "yGpSS2YE-EUB"
      }
    },
    {
      "cell_type": "code",
      "source": [
        "import matplotlib.pyplot as plt\n",
        "from sklearn.datasets import load_iris\n",
        "from sklearn.model_selection import train_test_split\n",
        "from sklearn.tree import DecisionTreeClassifier\n",
        "from sklearn.metrics import accuracy_score\n",
        "\n",
        "# Load the Iris dataset\n",
        "iris = load_iris()\n",
        "X = iris.data\n",
        "y = iris.target\n",
        "\n",
        "# Split into train and test sets\n",
        "X_train, X_test, y_train, y_test = train_test_split(X, y, test_size=0.2, random_state=42)\n",
        "\n",
        "# Train an initial tree to get ccp_alphas\n",
        "clf = DecisionTreeClassifier(random_state=42)\n",
        "clf.fit(X_train, y_train)\n",
        "\n",
        "path = clf.cost_complexity_pruning_path(X_train, y_train)\n",
        "ccp_alphas = path.ccp_alphas[:-1]\n",
        "impurities = path.impurities[:-1]\n",
        "\n",
        "train_scores = []\n",
        "test_scores = []\n",
        "\n",
        "for ccp_alpha in ccp_alphas:\n",
        "    clf_pruned = DecisionTreeClassifier(random_state=42, ccp_alpha=ccp_alpha)\n",
        "    clf_pruned.fit(X_train, y_train)\n",
        "    train_scores.append(clf_pruned.score(X_train, y_train))\n",
        "    test_scores.append(clf_pruned.score(X_test, y_test))\n",
        "\n",
        "plt.figure(figsize=(8, 5))\n",
        "plt.plot(ccp_alphas, train_scores, marker='o', label='Train Accuracy')\n",
        "plt.plot(ccp_alphas, test_scores, marker='o', label='Test Accuracy')\n",
        "plt.xlabel('ccp_alpha (Pruning Parameter)')\n",
        "plt.ylabel('Accuracy')\n",
        "plt.title('Effect of Cost Complexity Pruning on Accuracy')\n",
        "plt.legend()\n",
        "plt.grid(True)\n",
        "plt.show()\n"
      ],
      "metadata": {
        "colab": {
          "base_uri": "https://localhost:8080/",
          "height": 487
        },
        "id": "hysCHli4-O88",
        "outputId": "a297bc27-2af9-4c9e-faea-94318f911cf1"
      },
      "execution_count": 13,
      "outputs": [
        {
          "output_type": "display_data",
          "data": {
            "text/plain": [
              "<Figure size 800x500 with 1 Axes>"
            ],
            "image/png": "[encoded data removed]"
          },
          "metadata": {}
        }
      ]
    },
    {
      "cell_type": "markdown",
      "source": [
        "**13. Write a Python program to train a Decision Tree Classifier and evaluate its performance using Precision, Recall, and F1-Score.**"
      ],
      "metadata": {
        "id": "XylWTDk2-Vn8"
      }
    },
    {
      "cell_type": "code",
      "source": [
        "from sklearn.datasets import load_iris\n",
        "from sklearn.model_selection import train_test_split\n",
        "from sklearn.tree import DecisionTreeClassifier\n",
        "from sklearn.metrics import precision_score, recall_score, f1_score\n",
        "\n",
        "iris = load_iris()\n",
        "X = iris.data\n",
        "y = iris.target\n",
        "\n",
        "X_train, X_test, y_train, y_test = train_test_split(X, y, test_size=0.2, random_state=42)\n",
        "\n",
        "clf = DecisionTreeClassifier(random_state=42)\n",
        "clf.fit(X_train, y_train)\n",
        "\n",
        "y_pred = clf.predict(X_test)\n",
        "\n",
        "precision = precision_score(y_test, y_pred, average='macro')\n",
        "recall = recall_score(y_test, y_pred, average='macro')\n",
        "f1 = f1_score(y_test, y_pred, average='macro')\n",
        "\n",
        "print(f\"Precision: {precision:.2f}\")\n",
        "print(f\"Recall: {recall:.2f}\")\n",
        "print(f\"F1-Score: {f1:.2f}\")\n"
      ],
      "metadata": {
        "colab": {
          "base_uri": "https://localhost:8080/"
        },
        "id": "LmG1v-rP-a5K",
        "outputId": "59d29c28-e97f-49ed-a297-08e826722942"
      },
      "execution_count": 14,
      "outputs": [
        {
          "output_type": "stream",
          "name": "stdout",
          "text": [
            "Precision: 1.00\n",
            "Recall: 1.00\n",
            "F1-Score: 1.00\n"
          ]
        }
      ]
    },
    {
      "cell_type": "markdown",
      "source": [
        "**14. Write a Python program to train a Decision Tree Classifier and visualize the confusion matrix using seaborn.**"
      ],
      "metadata": {
        "id": "MdoI5qAz-h9r"
      }
    },
    {
      "cell_type": "code",
      "source": [
        "import seaborn as sns\n",
        "import matplotlib.pyplot as plt\n",
        "from sklearn.datasets import load_iris\n",
        "from sklearn.model_selection import train_test_split\n",
        "from sklearn.tree import DecisionTreeClassifier\n",
        "from sklearn.metrics import confusion_matrix\n",
        "\n",
        "iris = load_iris()\n",
        "X = iris.data\n",
        "y = iris.target\n",
        "class_names = iris.target_names\n",
        "\n",
        "X_train, X_test, y_train, y_test = train_test_split(X, y, test_size=0.2, random_state=42)\n",
        "\n",
        "clf = DecisionTreeClassifier(random_state=42)\n",
        "clf.fit(X_train, y_train)\n",
        "\n",
        "y_pred = clf.predict(X_test)\n",
        "\n",
        "cm = confusion_matrix(y_test, y_pred)\n",
        "\n",
        "plt.figure(figsize=(7,5))\n",
        "sns.heatmap(cm, annot=True, fmt='d', cmap='Blues', xticklabels=class_names, yticklabels=class_names)\n",
        "plt.xlabel('Predicted Label')\n",
        "plt.ylabel('True Label')\n",
        "plt.title('Confusion Matrix for Decision Tree Classifier')\n",
        "plt.show()\n"
      ],
      "metadata": {
        "colab": {
          "base_uri": "https://localhost:8080/",
          "height": 487
        },
        "id": "ddXX0m3T-l6f",
        "outputId": "ebdf52c3-d461-46b9-8ca0-d28d1473a95b"
      },
      "execution_count": 15,
      "outputs": [
        {
          "output_type": "display_data",
          "data": {
            "text/plain": [
              "<Figure size 700x500 with 2 Axes>"
            ],
            "image/png": "[encoded data removed]"
          },
          "metadata": {}
        }
      ]
    },
    {
      "cell_type": "markdown",
      "source": [
        "**15. Write a Python program to train a Decision Tree Classifier and use GridSearchCV to find the optimal values for max_depth and min_samples_split.**"
      ],
      "metadata": {
        "id": "kBMVnlU1-4gu"
      }
    },
    {
      "cell_type": "code",
      "source": [
        "from sklearn.datasets import load_iris\n",
        "from sklearn.model_selection import train_test_split, GridSearchCV\n",
        "from sklearn.tree import DecisionTreeClassifier\n",
        "\n",
        "iris = load_iris()\n",
        "X = iris.data\n",
        "y = iris.target\n",
        "\n",
        "X_train, X_test, y_train, y_test = train_test_split(X, y, test_size=0.2, random_state=42)\n",
        "\n",
        "param_grid = {\n",
        "    'max_depth': [2, 3, 4, 5, None],\n",
        "    'min_samples_split': [2, 5, 10]\n",
        "}\n",
        "\n",
        "clf = DecisionTreeClassifier(random_state=42)\n",
        "\n",
        "grid_search = GridSearchCV(estimator=clf, param_grid=param_grid, cv=5) # Completed the line\n",
        "grid_search.fit(X_train, y_train)\n",
        "\n",
        "print(\"Best parameters found: \", grid_search.best_params_)\n",
        "print(\"Best accuracy found: \", grid_search.best_score_)"
      ],
      "metadata": {
        "colab": {
          "base_uri": "https://localhost:8080/"
        },
        "id": "7WDae-IR_AZe",
        "outputId": "efa34bae-a8a0-49ac-ff1a-c3d09d66adde"
      },
      "execution_count": 17,
      "outputs": [
        {
          "output_type": "stream",
          "name": "stdout",
          "text": [
            "Best parameters found:  {'max_depth': 4, 'min_samples_split': 2}\n",
            "Best accuracy found:  0.9416666666666668\n"
          ]
        }
      ]
    }
  ]
}